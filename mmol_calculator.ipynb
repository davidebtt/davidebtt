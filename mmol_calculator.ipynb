weight_g = float(input( "enter the mass in g of the pure chemical: "))
assay_percent_ = float(input("enter the % of assay: "))
molecular_weight = float(input("enter the MW of the chemical: "))
mmol = round(float(((weight_g * (assay_percent_/100))/molecular_weight)*1000), 4)
print(f"you have {mmol} mmol")

     
      
     
      
       
      
